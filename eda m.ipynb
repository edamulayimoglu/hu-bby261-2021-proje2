{
 "cells": [
  {
   "cell_type": "code",
   "execution_count": 7,
   "id": "02535b0e",
   "metadata": {},
   "outputs": [],
   "source": [
    "from tkinter import*\n",
    "from random import randint\n",
    "pencere =Tk()\n",
    "pencere.geometry(\"1050x300+200+200\")\n",
    "pencere.title(\"Yeni Harry Potter'ı Arıyoruz! \")\n",
    "pencere.configure(bg=\"pink\")\n",
    "\n",
    "giris = Label(pencere,text=\"Seçilmiş Kişisin!\",fg=\"yellow\", bg=\"purple\")\n",
    "giris.pack()\n",
    "giris.config(font=(\"Arial\", 20))\n",
    "giris.grid()\n",
    "\n",
    "def sayisal():\n",
    "    i = 0\n",
    "    secilenler = [0,0,0,0,0,0]\n",
    "    for rastgele in secilenler:\n",
    "        while i < len(secilenler):\n",
    "            secilen = randint(1, 49)\n",
    "            if secilen not in secilenler:\n",
    "                secilenler[i] = secilen\n",
    "                i+=1\n",
    "        siralanan = (sorted(secilenler))\n",
    "        i=0\n",
    "\n",
    "        buton = Label(pencere,text=siralanan)\n",
    "        buton.config(font=(\"Arial\",16 ))\n",
    "        buton.grid(column=10, row=10)\n",
    "        buton.grid()\n",
    "\n",
    "sayılar= Button (pencere, text=\"Şanslı Sayılarımı Listele\" ,fg=\"black\", bg=\"white\", command=sayisal)\n",
    "sayılar.config(font=(\"Arial\", 14))\n",
    "sayılar.grid(column=0, row=10)\n",
    "sayılar.grid()\n",
    "\n",
    "def bilgi():\n",
    "    dosya =\"Size nasıl yardımcı olabiliriz? bknz: \\n1. Şanslı Sayılarımı Listele adlı butona her tıklamanızda 6 adet yeni sayı dizisi ile karşılaşacaksınız. \\n2. Çıkış'a tıkladığınızda sistemden ayrılmış olacaksınız \"\n",
    "    bilgi = Label(pencere, text= dosya)\n",
    "    bilgi.config(font=(\"Arial\", 10))\n",
    "    bilgi.grid(column=12, row=14)\n",
    "    bilgi.grid()\n",
    "\n",
    "yardım= Button(pencere, text=\" Yardım'a mı ihtiyacınız var?\", fg=\"black\", bg=\"white\", command= bilgi)\n",
    "yardım.config(font=(\"Arial\", 14))\n",
    "yardım.grid()\n",
    "\n",
    "\n",
    "\n",
    "cikis = Button (pencere, text=\"Çıkış\", command= pencere.quit,fg=\"white\", bg=\"red\")\n",
    "cikis.config(font=(\"Arial\", 12))\n",
    "cikis.grid(column=0, row=20)\n",
    "cikis.grid()\n",
    "pencere.mainloop()"
   ]
  }
 ],
 "metadata": {
  "kernelspec": {
   "display_name": "Python 3",
   "language": "python",
   "name": "python3"
  },
  "language_info": {
   "codemirror_mode": {
    "name": "ipython",
    "version": 3
   },
   "file_extension": ".py",
   "mimetype": "text/x-python",
   "name": "python",
   "nbconvert_exporter": "python",
   "pygments_lexer": "ipython3",
   "version": "3.8.8"
  }
 },
 "nbformat": 4,
 "nbformat_minor": 5
}
